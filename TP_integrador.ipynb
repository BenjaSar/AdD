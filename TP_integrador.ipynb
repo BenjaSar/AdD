{
 "cells": [
  {
   "attachments": {},
   "cell_type": "markdown",
   "id": "62eca167",
   "metadata": {},
   "source": [
    "#### Authors:\n",
    "Karen Raczkowski <br>\n",
    "Juan Iribet     <br>\n",
    "FS               <br>"
   ]
  },
  {
   "attachments": {},
   "cell_type": "markdown",
   "id": "metric-scene",
   "metadata": {},
   "source": [
    "# Preparación de datos y validación de resultados"
   ]
  },
  {
   "cell_type": "code",
   "execution_count": 7,
   "id": "filled-piece",
   "metadata": {},
   "outputs": [
    {
     "name": "stdout",
     "output_type": "stream",
     "text": [
      "The autoreload extension is already loaded. To reload it, use:\n",
      "  %reload_ext autoreload\n"
     ]
    },
    {
     "data": {
      "text/plain": [
       "'/home/benjas/Documents/gitrepo/AdD'"
      ]
     },
     "execution_count": 7,
     "metadata": {},
     "output_type": "execute_result"
    }
   ],
   "source": [
    "%load_ext autoreload\n",
    "%autoreload 2\n",
    "\n",
    "# Importamos librerías \n",
    "import pandas as pd\n",
    "import numpy as np\n",
    "import sklearn\n",
    "import matplotlib\n",
    "import matplotlib.pyplot as plt\n",
    "import seaborn as sns; sns.set()\n",
    "import scipy.stats as stats\n",
    "\n",
    "# Entrenamiento de modelos de prueba\n",
    "from sklearn.linear_model import LinearRegression\n",
    "from sklearn.linear_model import LogisticRegression\n",
    "from sklearn.ensemble import AdaBoostClassifier\n",
    "from sklearn.ensemble import RandomForestClassifier\n",
    "from sklearn.ensemble import GradientBoostingClassifier\n",
    "from sklearn.neighbors import KNeighborsClassifier\n",
    "from sklearn.svm import SVC\n",
    "\n",
    "# Evaluación de modelos de prueba\n",
    "from sklearn.metrics import roc_auc_score\n",
    "from sklearn.metrics import mean_squared_error\n",
    "\n",
    "# Partición de train-test set\n",
    "from sklearn.model_selection import train_test_split\n",
    "\n",
    "# Pipelines\n",
    "from sklearn.pipeline import Pipeline\n",
    "\n",
    "# Crear datasets\n",
    "from sklearn.datasets import make_regression\n",
    "\n",
    "# Esquemas de entrenamiento\n",
    "from sklearn.model_selection import RepeatedStratifiedKFold, RepeatedKFold\n",
    "from sklearn.model_selection import cross_val_score\n",
    "\n",
    "#Show current working directory\n",
    "import os \n",
    "os.getcwd()\n"
   ]
  },
  {
   "cell_type": "code",
   "execution_count": 16,
   "id": "a75f8e11",
   "metadata": {},
   "outputs": [],
   "source": [
    "#Load dataset\n",
    "colors = pd.read_csv(\"data/colors.csv\", delimiter = ',')\n",
    "inventories = pd.read_csv(\"data/inventories.csv\", delimiter=',')"
   ]
  }
 ],
 "metadata": {
  "kernelspec": {
   "display_name": "Python 3.10.7 64-bit",
   "language": "python",
   "name": "python3"
  },
  "language_info": {
   "codemirror_mode": {
    "name": "ipython",
    "version": 3
   },
   "file_extension": ".py",
   "mimetype": "text/x-python",
   "name": "python",
   "nbconvert_exporter": "python",
   "pygments_lexer": "ipython3",
   "version": "3.10.6"
  },
  "vscode": {
   "interpreter": {
    "hash": "b5c22da4a52024410f64f9c5a5e2b4ffeeb944a5ed00e8825a42174cdab30315"
   }
  }
 },
 "nbformat": 4,
 "nbformat_minor": 5
}
